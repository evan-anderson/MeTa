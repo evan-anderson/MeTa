{
 "cells": [
  {
   "cell_type": "markdown",
   "metadata": {},
   "source": [
    "# Preparing sample data for model "
   ]
  },
  {
   "cell_type": "markdown",
   "metadata": {},
   "source": [
    "In this notebook, I prepare sample data which is a placeholder in the \"model\" notebooks."
   ]
  },
  {
   "cell_type": "code",
   "execution_count": 11,
   "metadata": {},
   "outputs": [],
   "source": [
    "#standard \n",
    "import numpy as np\n",
    "import pandas as pd\n",
    "import matplotlib.pyplot as plt\n",
    "from scipy import stats\n",
    "import seaborn as sns\n",
    "\n",
    "#model to use\n",
    "from sklearn.ensemble import RandomForestClassifier\n",
    "\n",
    "#model performance\n",
    "from sklearn.metrics import confusion_matrix, f1_score, precision_recall_fscore_support\n",
    "from sklearn.model_selection import cross_val_predict, cross_val_score, KFold, RandomizedSearchCV, train_test_split\n",
    "from scipy.stats import randint as sp_randint\n",
    "from time import time\n",
    "#for easy visualization of model performance\n",
    "import scikitplot as skplt\n",
    "\n",
    "#importing model\n",
    "import pickle \n",
    "\n",
    "#custom function for trim mean and std deviation\n",
    "def trim_mean_std(data, frac=0.05):    \n",
    "    mean = stats.trim_mean(data, frac)\n",
    "    std = stats.tstd(data, limits=(frac * np.max(data), (1 - frac) * np.max(data)))\n",
    "    return mean, std\n",
    "\n",
    "#Dictionary to convert amino acid abreviations\n",
    "aa_dict = {'ALA': 'A', 'CYS':'C', 'ASP': 'D', 'GLU':'E',\n",
    "          'PHE': 'F', 'GLY': 'G', 'HIS': 'H', 'ILE': 'I',\n",
    "          'LYS': 'K', 'LEU': 'L', 'MET': 'M', 'ASN': 'N',\n",
    "          'GLN': 'Q', 'ARG': 'R', 'SER': 'S', 'THR': 'T',\n",
    "          'VAL': 'V', 'TRP': 'W', 'TYR': 'Y'}\n",
    "\n",
    "\n",
    "#Dictionary to bucket amino acids\n",
    "condensed_dict = {'L': 'LAIVMH', 'A': 'LAIVMH', 'I': 'LAIVMH', 'V': 'LAIVMH', 'M': 'LAIVMH', 'H': 'LAIVMH',\n",
    "                  'D': 'DEQ', 'E': 'DEQ', 'Q': 'DEQ', \n",
    "                  'S': 'STGRFN', 'T': 'STGRFN', 'G': 'STGRFN', 'R': 'STGRFN', 'F': 'STGRFN', 'N': 'STGRFN',\n",
    "                  'K': 'K'}"
   ]
  },
  {
   "cell_type": "code",
   "execution_count": null,
   "metadata": {},
   "outputs": [],
   "source": [
    "#normal z score function\n",
    "def z_score(data):\n",
    "    means = np.mean(data, axis=0)\n",
    "    stds = np.std(data, axis=0)\n",
    "    zeroed_data = np.subtract(data, means)\n",
    "    scaled_data = np.divide(zeroed_data, stds)\n",
    "    return scaled_data \n",
    "\n",
    "#trim z score function\n",
    "def trim_log_z_score(data, frac=0.05):\n",
    "    '''\n",
    "    Args:\n",
    "    data (NUMPY ARRAY!!): numpy array of data to be log transformed and scaled, not robust to negative numbers\n",
    "    frac (float): how much to trim mean and standard deviation\n",
    "    Returns:\n",
    "    scaled_data (numpy array): log transformed and scaled data\n",
    "    '''\n",
    "    log_data = np.log(np.clip(data, 0.1, None))\n",
    "    trim_means_and_std = np.apply_along_axis(func1d=trim_mean_std, axis=0, arr=log_data, frac=frac)\n",
    "    means = trim_means_and_std[0,:].reshape(1,-1)\n",
    "    stds = trim_means_and_std[1,:].reshape(1,-1)\n",
    "    zeroed_data = np.subtract(log_data, means)\n",
    "    scaled_data = np.divide(zeroed_data, stds)\n",
    "    return scaled_data\n",
    "\n",
    "def ft_eng_and_scale(data):\n",
    "    nums = ['0%', '1%', '5%', '10%']\n",
    "    ratio_cols = ['1/0', '5/0', '10/0', '5/1', '10/1', '10/5']\n",
    "    ratios_df = create_ratios(data)\n",
    "    log_z_signal = trim_log_z_score(data[nums].values)\n",
    "    z_ratio = z_score(ratios_df.values)\n",
    "    X = np.concatenate((log_z_signal, z_ratio), axis=1)\n",
    "    X_df = pd.DataFrame(X, columns=(nums+ratio_cols))\n",
    "    X_df['AA'] = data['AA']\n",
    "    return X_df"
   ]
  },
  {
   "cell_type": "code",
   "execution_count": 7,
   "metadata": {},
   "outputs": [],
   "source": [
    "#importing data\n",
    "IGPS = pd.read_csv('data/IGPS_8hr_0513.csv').dropna(axis=0)\n",
    "PTP1B = pd.read_csv('data/PTP1B_8hr_0513.csv').dropna(axis=0)\n",
    "\n",
    "#rearranging columns and setting AA colum to single letter abbreviation\n",
    "PTP1B = PTP1B[['0%', '1%', '5%', '10%', 'AA']]\n",
    "PTP1B[['AA']] = PTP1B[['AA']].apply(lambda x: x.str[0])\n",
    "PTP1B = PTP1B[PTP1B['AA'] != 'X']\n",
    "\n",
    "IGPS = IGPS[['0%', '1%', '5%', '10%', 'AA']]\n",
    "IGPS[['AA']] = IGPS['AA'].map(aa_dict)\n",
    "\n",
    "#converting labels to categorical variables\n",
    "IGPS.AA = IGPS.AA.astype('category')\n",
    "PTP1B.AA = PTP1B.AA.astype('category')\n",
    "\n",
    "#combining data\n",
    "both_proteins = pd.concat([IGPS, PTP1B] , axis=0, ignore_index=True)\n",
    "\n",
    "#label protein in overall array\n",
    "proteins = ['IGPS'] * IGPS.shape[0] + ['PTP1B'] * (both_proteins.shape[0] - IGPS.shape[0])\n",
    "both_proteins['protein'] = pd.Series(proteins)\n",
    "\n",
    "#target amino acids\n",
    "y = both_proteins.AA"
   ]
  },
  {
   "cell_type": "code",
   "execution_count": 1,
   "metadata": {},
   "outputs": [],
   "source": [
    "def create_filter(AA_excluded, y, reverse=False):\n",
    "    all_labels = ['L','A', 'I', 'V', 'D', 'E', 'Q', 'S', 'T', 'F', 'G', 'H', 'R', 'K', 'C', 'N', 'M', 'W', 'Y' ]\n",
    "    labels = [x for x in all_labels if x not in AA_excluded]\n",
    "    my_filter = [True if aa not in AA_excluded else False for aa in y]\n",
    "    if reverse == True:\n",
    "        reverse_filter = [True if aa in AA_excluded else False for aa in y]\n",
    "        return my_filter, labels, reverse_filter\n",
    "    else:\n",
    "        return my_filter, labels"
   ]
  },
  {
   "cell_type": "code",
   "execution_count": 9,
   "metadata": {},
   "outputs": [],
   "source": [
    "AA_excluded = ['W', 'Y', 'C']\n",
    "my_filter, labels, reverse_filter = create_filter(AA_excluded, y, reverse=True)"
   ]
  },
  {
   "cell_type": "code",
   "execution_count": 14,
   "metadata": {},
   "outputs": [],
   "source": [
    "nums = ['0%', '1%', '5%', '10%']\n",
    "both_proteins_arr = both_proteins[nums].values\n",
    "X_train, X_test, y_train, y_test = train_test_split(\n",
    "        both_proteins_arr[my_filter,:], y[my_filter], test_size=0.1, random_state=0)"
   ]
  },
  {
   "cell_type": "code",
   "execution_count": 17,
   "metadata": {},
   "outputs": [],
   "source": [
    "sample_labeled= pd.DataFrame(X_train)"
   ]
  },
  {
   "cell_type": "code",
   "execution_count": 20,
   "metadata": {},
   "outputs": [],
   "source": [
    "sample_labeled['AA'] = y_train"
   ]
  },
  {
   "cell_type": "code",
   "execution_count": 49,
   "metadata": {},
   "outputs": [],
   "source": [
    "sample_unlabeled = IGPS.sample(frac=0.1, replace=False, random_state=0)"
   ]
  },
  {
   "cell_type": "code",
   "execution_count": 50,
   "metadata": {},
   "outputs": [],
   "source": [
    "short_ind = sample_unlabeled.index"
   ]
  },
  {
   "cell_type": "code",
   "execution_count": 51,
   "metadata": {},
   "outputs": [],
   "source": [
    "total_ind = IGPS.index\n",
    "sample_labeled = IGPS.loc[set(total_ind)-set(short_ind)]"
   ]
  },
  {
   "cell_type": "code",
   "execution_count": 58,
   "metadata": {},
   "outputs": [],
   "source": [
    "sample_unlabeled.drop(columns='AA').to_csv('data/sample_unlabeled.csv', index=False)"
   ]
  },
  {
   "cell_type": "code",
   "execution_count": 57,
   "metadata": {},
   "outputs": [],
   "source": [
    "sample_labeled.to_csv('data/sample_labeled.csv', index=False)"
   ]
  },
  {
   "cell_type": "code",
   "execution_count": 55,
   "metadata": {},
   "outputs": [
    {
     "data": {
      "text/html": [
       "<div>\n",
       "<style scoped>\n",
       "    .dataframe tbody tr th:only-of-type {\n",
       "        vertical-align: middle;\n",
       "    }\n",
       "\n",
       "    .dataframe tbody tr th {\n",
       "        vertical-align: top;\n",
       "    }\n",
       "\n",
       "    .dataframe thead th {\n",
       "        text-align: right;\n",
       "    }\n",
       "</style>\n",
       "<table border=\"1\" class=\"dataframe\">\n",
       "  <thead>\n",
       "    <tr style=\"text-align: right;\">\n",
       "      <th></th>\n",
       "      <th>0%</th>\n",
       "      <th>1%</th>\n",
       "      <th>5%</th>\n",
       "      <th>10%</th>\n",
       "      <th>AA</th>\n",
       "    </tr>\n",
       "  </thead>\n",
       "  <tbody>\n",
       "    <tr>\n",
       "      <th>10</th>\n",
       "      <td>44878.0</td>\n",
       "      <td>35399.39127</td>\n",
       "      <td>28197.90367</td>\n",
       "      <td>27808.87681</td>\n",
       "      <td>D</td>\n",
       "    </tr>\n",
       "    <tr>\n",
       "      <th>53</th>\n",
       "      <td>45768.0</td>\n",
       "      <td>31829.72942</td>\n",
       "      <td>14369.01023</td>\n",
       "      <td>18841.69090</td>\n",
       "      <td>H</td>\n",
       "    </tr>\n",
       "    <tr>\n",
       "      <th>45</th>\n",
       "      <td>80528.0</td>\n",
       "      <td>59971.64002</td>\n",
       "      <td>50153.13583</td>\n",
       "      <td>33555.46352</td>\n",
       "      <td>G</td>\n",
       "    </tr>\n",
       "    <tr>\n",
       "      <th>26</th>\n",
       "      <td>43642.0</td>\n",
       "      <td>36039.34709</td>\n",
       "      <td>27277.08781</td>\n",
       "      <td>27101.01449</td>\n",
       "      <td>E</td>\n",
       "    </tr>\n",
       "    <tr>\n",
       "      <th>67</th>\n",
       "      <td>98323.0</td>\n",
       "      <td>63613.22351</td>\n",
       "      <td>9940.21114</td>\n",
       "      <td>12906.80585</td>\n",
       "      <td>K</td>\n",
       "    </tr>\n",
       "  </tbody>\n",
       "</table>\n",
       "</div>"
      ],
      "text/plain": [
       "         0%           1%           5%          10% AA\n",
       "10  44878.0  35399.39127  28197.90367  27808.87681  D\n",
       "53  45768.0  31829.72942  14369.01023  18841.69090  H\n",
       "45  80528.0  59971.64002  50153.13583  33555.46352  G\n",
       "26  43642.0  36039.34709  27277.08781  27101.01449  E\n",
       "67  98323.0  63613.22351   9940.21114  12906.80585  K"
      ]
     },
     "execution_count": 55,
     "metadata": {},
     "output_type": "execute_result"
    }
   ],
   "source": [
    "sample_unlabeled.head()"
   ]
  },
  {
   "cell_type": "code",
   "execution_count": null,
   "metadata": {},
   "outputs": [],
   "source": []
  }
 ],
 "metadata": {
  "kernelspec": {
   "display_name": "Python 3",
   "language": "python",
   "name": "python3"
  },
  "language_info": {
   "codemirror_mode": {
    "name": "ipython",
    "version": 3
   },
   "file_extension": ".py",
   "mimetype": "text/x-python",
   "name": "python",
   "nbconvert_exporter": "python",
   "pygments_lexer": "ipython3",
   "version": "3.7.4"
  }
 },
 "nbformat": 4,
 "nbformat_minor": 4
}
