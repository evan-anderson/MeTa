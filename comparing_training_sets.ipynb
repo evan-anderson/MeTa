{
 "cells": [
  {
   "cell_type": "markdown",
   "metadata": {},
   "source": [
    "# Evaluating model performance with different train / test groups"
   ]
  },
  {
   "cell_type": "code",
   "execution_count": 1,
   "metadata": {},
   "outputs": [],
   "source": [
    "#standard \n",
    "import numpy as np\n",
    "import pandas as pd\n",
    "import matplotlib.pyplot as plt\n",
    "from scipy import stats\n",
    "import seaborn as sns\n",
    "\n",
    "#model to use\n",
    "from sklearn.ensemble import RandomForestClassifier\n",
    "\n",
    "#model performance\n",
    "from sklearn.metrics import confusion_matrix, f1_score, precision_recall_fscore_support\n",
    "from sklearn.model_selection import cross_val_predict, cross_val_score, KFold, RandomizedSearchCV, train_test_split\n",
    "from scipy.stats import randint as sp_randint\n",
    "from time import time\n",
    "\n",
    "#for easy visualization of model performance\n",
    "import scikitplot as skplt\n",
    "\n",
    "#custom function for trim mean and std deviation\n",
    "def trim_mean_std(data, frac=0.05):    \n",
    "    mean = stats.trim_mean(data, frac)\n",
    "    std = stats.tstd(data, limits=(frac * np.max(data), (1 - frac) * np.max(data)))\n",
    "    return mean, std\n",
    "\n",
    "#Dictionary to convert amino acid abreviations\n",
    "aa_dict = {'ALA': 'A', 'CYS':'C', 'ASP': 'D', 'GLU':'E',\n",
    "          'PHE': 'F', 'GLY': 'G', 'HIS': 'H', 'ILE': 'I',\n",
    "          'LYS': 'K', 'LEU': 'L', 'MET': 'M', 'ASN': 'N',\n",
    "          'GLN': 'Q', 'ARG': 'R', 'SER': 'S', 'THR': 'T',\n",
    "          'VAL': 'V', 'TRP': 'W', 'TYR': 'Y'}\n",
    "\n",
    "#Dictionary to bucket amino acids\n",
    "condensed_dict = {'L': 'LAIVMH', 'A': 'LAIVMH', 'I': 'LAIVMH', 'V': 'LAIVMH', 'M': 'LAIVMH', 'H': 'LAIVMH',\n",
    "                  'D': 'DEQ', 'E': 'DEQ', 'Q': 'DEQ', \n",
    "                  'S': 'STGRFN', 'T': 'STGRFN', 'G': 'STGRFN', 'R': 'STGRFN', 'F': 'STGRFN', 'N': 'STGRFN',\n",
    "                  'K': 'K'}"
   ]
  },
  {
   "cell_type": "code",
   "execution_count": 41,
   "metadata": {},
   "outputs": [],
   "source": [
    "def create_filter(AA_excluded, y, reverse=False):\n",
    "    all_labels = ['L','A', 'I', 'V', 'D', 'E', 'Q', 'S', 'T', 'F', 'G', 'H', 'R', 'K', 'C', 'N', 'M', 'W', 'Y' ]\n",
    "    labels = [x for x in all_labels if x not in AA_excluded]\n",
    "    my_filter = [True if aa not in AA_excluded else False for aa in y]\n",
    "    if reverse == True:\n",
    "        reverse_filter = [True if aa in AA_excluded else False for aa in y]\n",
    "        return my_filter, labels, reverse_filter\n",
    "    else:\n",
    "        return my_filter, labels\n",
    "#normal z score function\n",
    "def z_score(data):\n",
    "    means = np.mean(data, axis=0)\n",
    "    stds = np.std(data, axis=0)\n",
    "    zeroed_data = np.subtract(data, means)\n",
    "    scaled_data = np.divide(zeroed_data, stds)\n",
    "    return scaled_data \n",
    "\n",
    "#trim z score function\n",
    "def trim_log_z_score(data, frac=0.05):\n",
    "    '''\n",
    "    Args:\n",
    "    data (NUMPY ARRAY!!): numpy array of data to be log transformed and scaled, not robust to negative numbers\n",
    "    frac (float): how much to trim mean and standard deviation\n",
    "    Returns:\n",
    "    scaled_data (numpy array): log transformed and scaled data\n",
    "    '''\n",
    "    log_data = np.log(np.clip(data, 0.1, None))\n",
    "    trim_means_and_std = np.apply_along_axis(func1d=trim_mean_std, axis=0, arr=log_data, frac=frac)\n",
    "    means = trim_means_and_std[0,:].reshape(1,-1)\n",
    "    stds = trim_means_and_std[1,:].reshape(1,-1)\n",
    "    zeroed_data = np.subtract(log_data, means)\n",
    "    scaled_data = np.divide(zeroed_data, stds)\n",
    "    return scaled_data\n",
    "\n",
    "def create_ratios(data):\n",
    "    ratio_cols = ['1/0', '5/0', '10/0', '5/1', '10/1', '10/5']\n",
    "    div_by_zero = data[['1%', '5%', '10%']].values / data[['0%']].values \n",
    "    div_by_one = data[['5%', '10%']].values / data[['1%']].values\n",
    "    div_by_five = data[['10%']].values / data[['5%']].values\n",
    "    ratios = np.concatenate((div_by_zero, div_by_one, div_by_five), axis=1)\n",
    "    ratios_df = pd.DataFrame(ratios, columns=ratio_cols)\n",
    "    return ratios_df\n",
    "\n",
    "def ft_eng_and_scale(data):\n",
    "    nums = ['0%', '1%', '5%', '10%']\n",
    "    ratio_cols = ['1/0', '5/0', '10/0', '5/1', '10/1', '10/5']\n",
    "    ratios_df = create_ratios(data)\n",
    "    log_z_signal = trim_log_z_score(data[nums].values)\n",
    "    z_ratio = z_score(ratios_df.values)\n",
    "    X = np.concatenate((log_z_signal, z_ratio), axis=1)\n",
    "    X_df = pd.DataFrame(X, columns=(nums+ratio_cols))\n",
    "    X_df['AA'] = data['AA']\n",
    "    return X_df"
   ]
  },
  {
   "cell_type": "code",
   "execution_count": 97,
   "metadata": {},
   "outputs": [
    {
     "data": {
      "text/html": [
       "<div>\n",
       "<style scoped>\n",
       "    .dataframe tbody tr th:only-of-type {\n",
       "        vertical-align: middle;\n",
       "    }\n",
       "\n",
       "    .dataframe tbody tr th {\n",
       "        vertical-align: top;\n",
       "    }\n",
       "\n",
       "    .dataframe thead th {\n",
       "        text-align: right;\n",
       "    }\n",
       "</style>\n",
       "<table border=\"1\" class=\"dataframe\">\n",
       "  <thead>\n",
       "    <tr style=\"text-align: right;\">\n",
       "      <th></th>\n",
       "      <th>0%</th>\n",
       "      <th>1%</th>\n",
       "      <th>5%</th>\n",
       "      <th>10%</th>\n",
       "      <th>1/0</th>\n",
       "      <th>5/0</th>\n",
       "      <th>10/0</th>\n",
       "      <th>5/1</th>\n",
       "      <th>10/1</th>\n",
       "      <th>10/5</th>\n",
       "      <th>AA</th>\n",
       "      <th>protein</th>\n",
       "    </tr>\n",
       "  </thead>\n",
       "  <tbody>\n",
       "    <tr>\n",
       "      <td>0</td>\n",
       "      <td>-0.387254</td>\n",
       "      <td>-0.424029</td>\n",
       "      <td>-0.116963</td>\n",
       "      <td>-0.998261</td>\n",
       "      <td>-0.073245</td>\n",
       "      <td>0.163008</td>\n",
       "      <td>-0.961024</td>\n",
       "      <td>0.249033</td>\n",
       "      <td>-0.996243</td>\n",
       "      <td>-1.417733</td>\n",
       "      <td>A</td>\n",
       "      <td>IGPS</td>\n",
       "    </tr>\n",
       "    <tr>\n",
       "      <td>1</td>\n",
       "      <td>-0.955255</td>\n",
       "      <td>-0.877532</td>\n",
       "      <td>-0.189045</td>\n",
       "      <td>-0.904572</td>\n",
       "      <td>0.443453</td>\n",
       "      <td>0.872418</td>\n",
       "      <td>-0.570100</td>\n",
       "      <td>0.793035</td>\n",
       "      <td>-0.670377</td>\n",
       "      <td>-1.250451</td>\n",
       "      <td>A</td>\n",
       "      <td>IGPS</td>\n",
       "    </tr>\n",
       "    <tr>\n",
       "      <td>2</td>\n",
       "      <td>0.049362</td>\n",
       "      <td>0.568272</td>\n",
       "      <td>0.567189</td>\n",
       "      <td>-0.073820</td>\n",
       "      <td>1.790568</td>\n",
       "      <td>0.948550</td>\n",
       "      <td>-0.372455</td>\n",
       "      <td>0.288477</td>\n",
       "      <td>-0.700201</td>\n",
       "      <td>-1.062712</td>\n",
       "      <td>A</td>\n",
       "      <td>IGPS</td>\n",
       "    </tr>\n",
       "    <tr>\n",
       "      <td>3</td>\n",
       "      <td>-1.961281</td>\n",
       "      <td>-1.954593</td>\n",
       "      <td>-1.145581</td>\n",
       "      <td>-1.211031</td>\n",
       "      <td>0.450525</td>\n",
       "      <td>0.370053</td>\n",
       "      <td>-0.202033</td>\n",
       "      <td>0.246927</td>\n",
       "      <td>-0.297379</td>\n",
       "      <td>-0.531936</td>\n",
       "      <td>A</td>\n",
       "      <td>IGPS</td>\n",
       "    </tr>\n",
       "    <tr>\n",
       "      <td>4</td>\n",
       "      <td>0.153584</td>\n",
       "      <td>0.472364</td>\n",
       "      <td>0.403590</td>\n",
       "      <td>0.491781</td>\n",
       "      <td>1.008014</td>\n",
       "      <td>0.423224</td>\n",
       "      <td>0.276278</td>\n",
       "      <td>0.074660</td>\n",
       "      <td>0.048036</td>\n",
       "      <td>0.039257</td>\n",
       "      <td>C</td>\n",
       "      <td>IGPS</td>\n",
       "    </tr>\n",
       "  </tbody>\n",
       "</table>\n",
       "</div>"
      ],
      "text/plain": [
       "         0%        1%        5%       10%       1/0       5/0      10/0  \\\n",
       "0 -0.387254 -0.424029 -0.116963 -0.998261 -0.073245  0.163008 -0.961024   \n",
       "1 -0.955255 -0.877532 -0.189045 -0.904572  0.443453  0.872418 -0.570100   \n",
       "2  0.049362  0.568272  0.567189 -0.073820  1.790568  0.948550 -0.372455   \n",
       "3 -1.961281 -1.954593 -1.145581 -1.211031  0.450525  0.370053 -0.202033   \n",
       "4  0.153584  0.472364  0.403590  0.491781  1.008014  0.423224  0.276278   \n",
       "\n",
       "        5/1      10/1      10/5 AA protein  \n",
       "0  0.249033 -0.996243 -1.417733  A    IGPS  \n",
       "1  0.793035 -0.670377 -1.250451  A    IGPS  \n",
       "2  0.288477 -0.700201 -1.062712  A    IGPS  \n",
       "3  0.246927 -0.297379 -0.531936  A    IGPS  \n",
       "4  0.074660  0.048036  0.039257  C    IGPS  "
      ]
     },
     "execution_count": 97,
     "metadata": {},
     "output_type": "execute_result"
    }
   ],
   "source": [
    "#importing data\n",
    "IGPS = pd.read_csv('data/IGPS_labeled.csv').dropna(axis=0)\n",
    "PTP1B = pd.read_csv('data/PTP1B_labeled.csv').dropna(axis=0)\n",
    "\n",
    "#preprocessing data\n",
    "IGPS_processed = ft_eng_and_scale(IGPS)\n",
    "PTP1B_processed = ft_eng_and_scale(PTP1B)\n",
    "\n",
    "#combining data\n",
    "both_proteins = pd.concat([IGPS_processed, PTP1B_processed] , axis=0, ignore_index=True)\n",
    "\n",
    "#label protein in overall array\n",
    "proteins = ['IGPS'] * IGPS_processed.shape[0] + ['PTP1B'] * (both_proteins.shape[0] - IGPS_processed.shape[0])\n",
    "both_proteins['protein'] = pd.Series(proteins, dtype='category')\n",
    "both_proteins.AA = both_proteins.AA.astype('category')\n",
    "\n",
    "#Check imported data\n",
    "both_proteins.head()"
   ]
  },
  {
   "cell_type": "code",
   "execution_count": 98,
   "metadata": {},
   "outputs": [],
   "source": [
    "AA_excluded_PTP1B = ['W', 'Y', 'C'] \n",
    "\n",
    "my_filter, labels, my_rev_filter = create_filter(AA_excluded_PTP1B, both_proteins.AA, reverse=True)"
   ]
  },
  {
   "cell_type": "code",
   "execution_count": 99,
   "metadata": {},
   "outputs": [],
   "source": [
    "filtered_df = both_proteins.iloc[my_filter, :]"
   ]
  },
  {
   "cell_type": "code",
   "execution_count": 109,
   "metadata": {},
   "outputs": [],
   "source": [
    "splits = ['by_protein', 'test_20', 'test_10']\n",
    "by_protein = [filtered_df[filtered_df.protein=='PTP1B'].iloc[:,:10],\n",
    "             filtered_df[filtered_df.protein=='IGPS'].iloc[:,:10],\n",
    "             filtered_df[filtered_df.protein=='PTP1B'].AA,\n",
    "             filtered_df[filtered_df.protein=='IGPS'].AA]\n",
    "test_20 = train_test_split(\n",
    "    filtered_df.iloc[:,:10], filtered_df.AA, test_size=0.2, random_state=0)\n",
    "test_10 = train_test_split(\n",
    "    filtered_df.iloc[:,:10], filtered_df.AA, test_size=0.1, random_state=0)\n",
    "split_arrays = dict(zip(splits, [by_protein, test_20, test_10]))"
   ]
  },
  {
   "cell_type": "code",
   "execution_count": 110,
   "metadata": {},
   "outputs": [],
   "source": [
    "params = {'bootstrap': True, 'criterion': 'entropy', 'max_depth': 3, 'max_features': 4, 'min_samples_split': 7}"
   ]
  },
  {
   "cell_type": "code",
   "execution_count": 116,
   "metadata": {},
   "outputs": [],
   "source": [
    "def model_fit_and_pred(X_train, X_test, y_train, y_test, data_split):\n",
    "    #define model, fit, and predict\n",
    "    clf = RandomForestClassifier(n_estimators=100, **params, random_state=0)\n",
    "    clf.fit(X_train, y_train)\n",
    "    y_preds = clf.predict(X_test)\n",
    "    \n",
    "    #condense predictions to buckets of interest\n",
    "    y_condensed = np.array([condensed_dict[i] for i in y_test])\n",
    "    preds_condensed = np.array([condensed_dict[i] for i in y_preds])\n",
    "    \n",
    "    #plot whole confusion matrix\n",
    "    #ax = skplt.metrics.plot_confusion_matrix(y_test, y_preds, normalize=False,\n",
    "    #                                figsize=(12,12), title_fontsize='large', text_fontsize='large')\n",
    "    #ax.set_ylim(14.5, -0.5)\n",
    "    \n",
    "    #plot confusion matrix\n",
    "    ax = skplt.metrics.plot_confusion_matrix(y_condensed, preds_condensed, normalize=False, labels = ['LAIVMH', 'DEQ', 'STGRFN', 'K'], \n",
    "                                    figsize=(8,8), title_fontsize='large', text_fontsize='large')\n",
    "    ax.set_ylim(3.5, -0.5)\n",
    "    ax.set_title(data_split)\n",
    "    \n",
    "    #get precision and recall for each bucket, accuracy for whole thing\n",
    "    val_confusion_cond = confusion_matrix(y_condensed, preds_condensed)\n",
    "    accuracy_cond = np.trace(val_confusion_cond) / np.sum(val_confusion_cond)\n",
    "    \n",
    "    return accuracy_cond"
   ]
  },
  {
   "cell_type": "code",
   "execution_count": 118,
   "metadata": {},
   "outputs": [
    {
     "data": {
      "image/png": "[encoded data removed]",
      "text/plain": [
       "<Figure size 576x576 with 2 Axes>"
      ]
     },
     "metadata": {
      "needs_background": "light"
     },
     "output_type": "display_data"
    },
    {
     "data": {
      "image/png": "[encoded data removed]",
      "text/plain": [
       "<Figure size 576x576 with 2 Axes>"
      ]
     },
     "metadata": {
      "needs_background": "light"
     },
     "output_type": "display_data"
    },
    {
     "data": {
      "image/png": "[encoded data removed]",
      "text/plain": [
       "<Figure size 576x576 with 2 Axes>"
      ]
     },
     "metadata": {
      "needs_background": "light"
     },
     "output_type": "display_data"
    }
   ],
   "source": [
    "accuracies = []\n",
    "for split, array_l in split_arrays.items():\n",
    "    accuracies.append(model_fit_and_pred(*array_l, split))"
   ]
  },
  {
   "cell_type": "code",
   "execution_count": 125,
   "metadata": {},
   "outputs": [
    {
     "name": "stdout",
     "output_type": "stream",
     "text": [
      "Model fit with by_protein has accuracy of 0.7377049180327869\n",
      "Model fit with test_20 has accuracy of 0.7962962962962963\n",
      "Model fit with test_10 has accuracy of 0.9259259259259259\n"
     ]
    }
   ],
   "source": [
    "for i in range(3):\n",
    "    print(f'Model fit with {list(split_arrays.keys())[i]} has accuracy of {accuracies[i]}')"
   ]
  },
  {
   "cell_type": "code",
   "execution_count": null,
   "metadata": {},
   "outputs": [],
   "source": []
  }
 ],
 "metadata": {
  "kernelspec": {
   "display_name": "Python 3",
   "language": "python",
   "name": "python3"
  },
  "language_info": {
   "codemirror_mode": {
    "name": "ipython",
    "version": 3
   },
   "file_extension": ".py",
   "mimetype": "text/x-python",
   "name": "python",
   "nbconvert_exporter": "python",
   "pygments_lexer": "ipython3",
   "version": "3.7.4"
  }
 },
 "nbformat": 4,
 "nbformat_minor": 4
}
